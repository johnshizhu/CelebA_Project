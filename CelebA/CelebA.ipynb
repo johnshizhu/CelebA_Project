{
 "cells": [
  {
   "attachments": {},
   "cell_type": "markdown",
   "metadata": {},
   "source": [
    "# CelebA Dataset\n",
    "\n",
    "### File Characteristics\n",
    "\n",
    "img_align_celeba (sized images)\n",
    " - 202,599 images\n",
    "\n",
    "identity_CelebA\n",
    " - ALL lines: imge_id.jpg (ex. 000001.jpg) person_id\n",
    "\n",
    "list_attr_celeba\n",
    " - 1st line: number of images\n",
    " - 2nd line: Categories\n",
    " - 3rd+ lines: imge_id.jpg (ex. 000001.jpg) 1 or -1 for each category\n",
    "\n",
    "list_landmarks_align_celeba\n",
    " - 1st line: number of images\n",
    " - 2nd line: categories (ie. lefteye_x righteye_x etc)\n",
    " - 3rd_ lines: img_id.jpg (ex. 000001.jpg) number for position\n",
    "\n",
    "#### File Links\n",
    "Image Dataset: \"C:\\Users\\johns\\OneDrive\\Desktop\\ML\\MLData\\CELEBA_dataset\\img_align_celeba\"\n",
    "\n",
    "Identity Annotations: \"C:\\Users\\johns\\OneDrive\\Desktop\\ML\\MLData\\CELEBA_dataset\\CELEBA_annotations\\identity_CelebA.txt\"\n",
    "\n",
    "Attribute Annoatations: \"C:\\Users\\johns\\OneDrive\\Desktop\\ML\\MLData\\CELEBA_dataset\\CELEBA_annotations\\list_attr_celeba.txt\"\n",
    "\n",
    "Landmark Location Annotations: \"C:\\Users\\johns\\OneDrive\\Desktop\\ML\\MLData\\CELEBA_dataset\\CELEBA_annotations\\list_landmarks_align_celeba.txt\"\n",
    "\n",
    "\n"
   ]
  },
  {
   "cell_type": "code",
   "execution_count": null,
   "metadata": {},
   "outputs": [],
   "source": [
    "import tensorflow as tf\n",
    "import numpy as np\n"
   ]
  }
 ],
 "metadata": {
  "kernelspec": {
   "display_name": "Python 3",
   "language": "python",
   "name": "python3"
  },
  "language_info": {
   "name": "python",
   "version": "3.11.2"
  },
  "orig_nbformat": 4
 },
 "nbformat": 4,
 "nbformat_minor": 2
}
